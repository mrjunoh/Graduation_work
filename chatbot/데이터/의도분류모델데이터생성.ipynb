{
 "cells": [
  {
   "attachments": {},
   "cell_type": "markdown",
   "metadata": {},
   "source": [
    "# 의도 분류 모델 학습 데이터 생성하기"
   ]
  },
  {
   "cell_type": "code",
   "execution_count": 1,
   "metadata": {},
   "outputs": [],
   "source": [
    "import pandas as pd\n",
    "import numpy as np\n",
    "from konlpy.tag import Komoran"
   ]
  },
  {
   "cell_type": "code",
   "execution_count": 2,
   "metadata": {},
   "outputs": [],
   "source": [
    "movie = pd.read_csv(\"D:/대학교/4학년 1학기/졸작/chatbot/데이터/data_to_csv/네이버.csv\")\n",
    "purpose = pd.read_csv(\"D:/대학교/4학년 1학기/졸작/chatbot/데이터/data_to_csv/용도별목적대화데이터.csv\")\n",
    "topic = pd.read_csv(\"D:/대학교/4학년 1학기/졸작/chatbot/데이터/data_to_csv/주제별일상대화데이터.csv\")\n",
    "common_sense = pd.read_csv(\"D:/대학교/4학년 1학기/졸작/chatbot/데이터/data_to_csv/일반상식.csv\")\n",
    "add = pd.read_csv(\"D:/대학교/4학년 1학기/졸작/chatbot/데이터/data_to_csv/추가데이터.csv\")\n",
    "#add_2 = pd.read_csv(\"./data_to_csv/추가_1.csv\")\n",
    "\n",
    "movie.dropna(inplace=True)\n",
    "purpose.dropna(inplace=True)\n",
    "topic.dropna(inplace=True)\n",
    "common_sense.dropna(inplace=True)\n",
    "add.dropna(inplace=True)"
   ]
  },
  {
   "cell_type": "code",
   "execution_count": 3,
   "metadata": {},
   "outputs": [
    {
     "name": "stdout",
     "output_type": "stream",
     "text": [
      "movie shape => (199992, 3)\n",
      "purpose shape => (480494, 1)\n",
      "topic shape => (1445760, 1)\n",
      "common_sense shape => (68538, 3)\n",
      "add => (9216, 2)\n",
      "\n"
     ]
    }
   ],
   "source": [
    "print(f\"movie shape => {movie.shape}\\n\\\n",
    "purpose shape => {purpose.shape}\\n\\\n",
    "topic shape => {topic.shape}\\n\\\n",
    "common_sense shape => {common_sense.shape}\\n\\\n",
    "add => {add.shape}\\n\")"
   ]
  },
  {
   "cell_type": "code",
   "execution_count": 4,
   "metadata": {},
   "outputs": [
    {
     "name": "stdout",
     "output_type": "stream",
     "text": [
      "Index(['id', 'document', 'label'], dtype='object')\n",
      "Index(['text'], dtype='object')\n",
      "Index(['text'], dtype='object')\n",
      "Index(['intent', 'query', 'answer'], dtype='object')\n",
      "Index(['query', 'intent'], dtype='object')\n"
     ]
    }
   ],
   "source": [
    "print(movie.columns)\n",
    "print(purpose.columns)\n",
    "print(topic.columns)\n",
    "print(common_sense.columns)\n",
    "print(add.columns)\n",
    "#print(add_2.columns)"
   ]
  },
  {
   "cell_type": "code",
   "execution_count": 5,
   "metadata": {},
   "outputs": [],
   "source": [
    "all_data = list(movie['document']) + list(purpose['text']) + list(topic['text']) + list(common_sense['query']) \\\n",
    "+ list(common_sense['answer']) + list(add['query'])"
   ]
  },
  {
   "cell_type": "code",
   "execution_count": 6,
   "metadata": {},
   "outputs": [
    {
     "data": {
      "text/plain": [
       "2272538"
      ]
     },
     "execution_count": 6,
     "metadata": {},
     "output_type": "execute_result"
    }
   ],
   "source": [
    "len(all_data)"
   ]
  },
  {
   "attachments": {},
   "cell_type": "markdown",
   "metadata": {},
   "source": [
    "### 의도 분류 데이터 생성하기"
   ]
  },
  {
   "cell_type": "code",
   "execution_count": 7,
   "metadata": {},
   "outputs": [],
   "source": [
    "number = [] #0\n",
    "place = [] #1\n",
    "time = []# 2\n",
    "#com = []# 3\n",
    "etc = []# 4"
   ]
  },
  {
   "cell_type": "code",
   "execution_count": 8,
   "metadata": {},
   "outputs": [],
   "source": [
    "for i in all_data:\n",
    "    if ('어디' or '장소' or '위치' or '주소') in i: place.append(i)#장소 1\n",
    "    elif ('번호' or '전화' or '전화번호') in i: number.append(i)#번호 0\n",
    "    elif ('시작' or '마감' or '언제' or '시간' or '일정' or '학사일정') in i: time.append(i)#시간 2\n",
    "    #elif ('컴퓨터공학부') in i: com.append(i) #컴공에 대해서 3\n",
    "    else: etc.append(i) # 기타"
   ]
  },
  {
   "cell_type": "code",
   "execution_count": 9,
   "metadata": {},
   "outputs": [
    {
     "name": "stdout",
     "output_type": "stream",
     "text": [
      "12512\n",
      "29336\n",
      "8332\n",
      "2222358\n"
     ]
    }
   ],
   "source": [
    "print(len(number))# 번호 0\n",
    "print(len(place))# 장소 1\n",
    "print(len(time))# 시간 2\n",
    "#print(len(com))# 컴공 3\n",
    "#print(len(que))# 질문 4\n",
    "\n",
    "print(len(etc))\n"
   ]
  },
  {
   "cell_type": "code",
   "execution_count": 10,
   "metadata": {},
   "outputs": [
    {
     "data": {
      "text/plain": [
       "12512"
      ]
     },
     "execution_count": 10,
     "metadata": {},
     "output_type": "execute_result"
    }
   ],
   "source": [
    "# 번호관련\n",
    "number_label =[]\n",
    "for _ in range(len(number)):\n",
    "    number_label.append(0)\n",
    "len(number_label)"
   ]
  },
  {
   "cell_type": "code",
   "execution_count": 11,
   "metadata": {},
   "outputs": [
    {
     "data": {
      "text/plain": [
       "29336"
      ]
     },
     "execution_count": 11,
     "metadata": {},
     "output_type": "execute_result"
    }
   ],
   "source": [
    "len(place)"
   ]
  },
  {
   "cell_type": "code",
   "execution_count": 12,
   "metadata": {},
   "outputs": [
    {
     "data": {
      "text/plain": [
       "29336"
      ]
     },
     "execution_count": 12,
     "metadata": {},
     "output_type": "execute_result"
    }
   ],
   "source": [
    "# 장소관련\n",
    "place_label=[]\n",
    "for _ in range(len(place)):\n",
    "    place_label.append(1)\n",
    "len(place_label)"
   ]
  },
  {
   "cell_type": "code",
   "execution_count": 13,
   "metadata": {},
   "outputs": [
    {
     "data": {
      "text/plain": [
       "8332"
      ]
     },
     "execution_count": 13,
     "metadata": {},
     "output_type": "execute_result"
    }
   ],
   "source": [
    "len(time)"
   ]
  },
  {
   "cell_type": "code",
   "execution_count": 17,
   "metadata": {},
   "outputs": [
    {
     "data": {
      "text/plain": [
       "8332"
      ]
     },
     "execution_count": 17,
     "metadata": {},
     "output_type": "execute_result"
    }
   ],
   "source": [
    "# 시간 관련\n",
    "time_label = []\n",
    "for _ in range(len(time)):\n",
    "    time_label.append(2)\n",
    "len(time_label)"
   ]
  },
  {
   "cell_type": "code",
   "execution_count": 56,
   "metadata": {},
   "outputs": [],
   "source": [
    "# com_label=[]\n",
    "# for _ in range(len(com)):\n",
    "#     com_label.append(3)\n",
    "# len(com_label)"
   ]
  },
  {
   "cell_type": "code",
   "execution_count": 57,
   "metadata": {},
   "outputs": [],
   "source": [
    "# que_label = []\n",
    "# for _ in range(len(que)):\n",
    "#     que_label.append(4)\n",
    "# len(que_label)"
   ]
  },
  {
   "cell_type": "code",
   "execution_count": 14,
   "metadata": {},
   "outputs": [
    {
     "name": "stdout",
     "output_type": "stream",
     "text": [
      "50000\n"
     ]
    }
   ],
   "source": [
    "# 기타\n",
    "import random\n",
    "random.seed(42)\n",
    "etc_sample = random.sample(etc, 50000)\n",
    "print(len(etc_sample))"
   ]
  },
  {
   "cell_type": "code",
   "execution_count": 15,
   "metadata": {},
   "outputs": [
    {
     "data": {
      "text/plain": [
       "50000"
      ]
     },
     "execution_count": 15,
     "metadata": {},
     "output_type": "execute_result"
    }
   ],
   "source": [
    "etc_sample_label = []\n",
    "for _ in range(len(etc_sample)):\n",
    "    etc_sample_label.append(3)\n",
    "len(etc_sample_label)"
   ]
  },
  {
   "cell_type": "code",
   "execution_count": 18,
   "metadata": {},
   "outputs": [],
   "source": [
    "train_df = pd.DataFrame({'text':number+place+time,\n",
    "                         'label':number_label+place_label+time_label})"
   ]
  },
  {
   "cell_type": "code",
   "execution_count": 19,
   "metadata": {},
   "outputs": [
    {
     "data": {
      "text/html": [
       "<div>\n",
       "<style scoped>\n",
       "    .dataframe tbody tr th:only-of-type {\n",
       "        vertical-align: middle;\n",
       "    }\n",
       "\n",
       "    .dataframe tbody tr th {\n",
       "        vertical-align: top;\n",
       "    }\n",
       "\n",
       "    .dataframe thead th {\n",
       "        text-align: right;\n",
       "    }\n",
       "</style>\n",
       "<table border=\"1\" class=\"dataframe\">\n",
       "  <thead>\n",
       "    <tr style=\"text-align: right;\">\n",
       "      <th></th>\n",
       "      <th>text</th>\n",
       "      <th>label</th>\n",
       "    </tr>\n",
       "  </thead>\n",
       "  <tbody>\n",
       "    <tr>\n",
       "      <th>0</th>\n",
       "      <td>이 영화 있는사람 공유 부탁합니다 제 폰번호 010 4427 2774 연락한통만요^-^;</td>\n",
       "      <td>0</td>\n",
       "    </tr>\n",
       "    <tr>\n",
       "      <th>1</th>\n",
       "      <td>작가때문에 1점 주려다가 영화가 너무 좋아서 10점줌비행기를 끌고 추운곳에다 추락시...</td>\n",
       "      <td>0</td>\n",
       "    </tr>\n",
       "    <tr>\n",
       "      <th>2</th>\n",
       "      <td>비밀번호가 뭐야? 서윤내사랑 ㅋ_ㅋ</td>\n",
       "      <td>0</td>\n",
       "    </tr>\n",
       "    <tr>\n",
       "      <th>3</th>\n",
       "      <td>용팔이 시르즈를 볼려면 어떻게 하는지.전화번호좀</td>\n",
       "      <td>0</td>\n",
       "    </tr>\n",
       "    <tr>\n",
       "      <th>4</th>\n",
       "      <td>보다 말았는데 심장 졸라 쫄깃해진다;; 근데 여주 졸라 답답함. 세면대 물기 닦는 ...</td>\n",
       "      <td>0</td>\n",
       "    </tr>\n",
       "    <tr>\n",
       "      <th>...</th>\n",
       "      <td>...</td>\n",
       "      <td>...</td>\n",
       "    </tr>\n",
       "    <tr>\n",
       "      <th>50175</th>\n",
       "      <td>선배님들은 아이출산하고 언제쯤 생리 시작하셨나요?</td>\n",
       "      <td>2</td>\n",
       "    </tr>\n",
       "    <tr>\n",
       "      <th>50176</th>\n",
       "      <td>부정출혈이 있고 난 후 며칠 뒤에 생리 시작하는지 아시는분 있나요...?</td>\n",
       "      <td>2</td>\n",
       "    </tr>\n",
       "    <tr>\n",
       "      <th>50177</th>\n",
       "      <td>언제 시작하고 언제 끝났는지</td>\n",
       "      <td>2</td>\n",
       "    </tr>\n",
       "    <tr>\n",
       "      <th>50178</th>\n",
       "      <td>며칠전에 머리를 매직하고 나서부터슬슬 여자로서의 자각은 가지고 다니기 시작했는데얼마...</td>\n",
       "      <td>2</td>\n",
       "    </tr>\n",
       "    <tr>\n",
       "      <th>50179</th>\n",
       "      <td>가을언제 시작햇다고 끝나냐 ...</td>\n",
       "      <td>2</td>\n",
       "    </tr>\n",
       "  </tbody>\n",
       "</table>\n",
       "<p>50180 rows × 2 columns</p>\n",
       "</div>"
      ],
      "text/plain": [
       "                                                    text  label\n",
       "0      이 영화 있는사람 공유 부탁합니다 제 폰번호 010 4427 2774 연락한통만요^-^;      0\n",
       "1      작가때문에 1점 주려다가 영화가 너무 좋아서 10점줌비행기를 끌고 추운곳에다 추락시...      0\n",
       "2                                    비밀번호가 뭐야? 서윤내사랑 ㅋ_ㅋ      0\n",
       "3                             용팔이 시르즈를 볼려면 어떻게 하는지.전화번호좀      0\n",
       "4      보다 말았는데 심장 졸라 쫄깃해진다;; 근데 여주 졸라 답답함. 세면대 물기 닦는 ...      0\n",
       "...                                                  ...    ...\n",
       "50175                        선배님들은 아이출산하고 언제쯤 생리 시작하셨나요?      2\n",
       "50176           부정출혈이 있고 난 후 며칠 뒤에 생리 시작하는지 아시는분 있나요...?      2\n",
       "50177                                    언제 시작하고 언제 끝났는지      2\n",
       "50178  며칠전에 머리를 매직하고 나서부터슬슬 여자로서의 자각은 가지고 다니기 시작했는데얼마...      2\n",
       "50179                                 가을언제 시작햇다고 끝나냐 ...      2\n",
       "\n",
       "[50180 rows x 2 columns]"
      ]
     },
     "execution_count": 19,
     "metadata": {},
     "output_type": "execute_result"
    }
   ],
   "source": [
    "train_df"
   ]
  },
  {
   "cell_type": "code",
   "execution_count": 22,
   "metadata": {},
   "outputs": [
    {
     "data": {
      "text/html": [
       "<div>\n",
       "<style scoped>\n",
       "    .dataframe tbody tr th:only-of-type {\n",
       "        vertical-align: middle;\n",
       "    }\n",
       "\n",
       "    .dataframe tbody tr th {\n",
       "        vertical-align: top;\n",
       "    }\n",
       "\n",
       "    .dataframe thead th {\n",
       "        text-align: right;\n",
       "    }\n",
       "</style>\n",
       "<table border=\"1\" class=\"dataframe\">\n",
       "  <thead>\n",
       "    <tr style=\"text-align: right;\">\n",
       "      <th></th>\n",
       "      <th>text</th>\n",
       "      <th>label</th>\n",
       "    </tr>\n",
       "  </thead>\n",
       "  <tbody>\n",
       "    <tr>\n",
       "      <th>0</th>\n",
       "      <td>이 영화 있는사람 공유 부탁합니다 제 폰번호 010 4427 2774 연락한통만요^-^;</td>\n",
       "      <td>0</td>\n",
       "    </tr>\n",
       "    <tr>\n",
       "      <th>1</th>\n",
       "      <td>작가때문에 1점 주려다가 영화가 너무 좋아서 10점줌비행기를 끌고 추운곳에다 추락시...</td>\n",
       "      <td>0</td>\n",
       "    </tr>\n",
       "    <tr>\n",
       "      <th>2</th>\n",
       "      <td>비밀번호가 뭐야? 서윤내사랑 ㅋ_ㅋ</td>\n",
       "      <td>0</td>\n",
       "    </tr>\n",
       "    <tr>\n",
       "      <th>3</th>\n",
       "      <td>용팔이 시르즈를 볼려면 어떻게 하는지.전화번호좀</td>\n",
       "      <td>0</td>\n",
       "    </tr>\n",
       "    <tr>\n",
       "      <th>4</th>\n",
       "      <td>보다 말았는데 심장 졸라 쫄깃해진다;; 근데 여주 졸라 답답함. 세면대 물기 닦는 ...</td>\n",
       "      <td>0</td>\n",
       "    </tr>\n",
       "    <tr>\n",
       "      <th>...</th>\n",
       "      <td>...</td>\n",
       "      <td>...</td>\n",
       "    </tr>\n",
       "    <tr>\n",
       "      <th>12507</th>\n",
       "      <td>학원에서 어쩌다 보니 어느 여자 번호를 얻었어.</td>\n",
       "      <td>0</td>\n",
       "    </tr>\n",
       "    <tr>\n",
       "      <th>12508</th>\n",
       "      <td>방어율 99.9라서 등번호 99로 지었냐</td>\n",
       "      <td>0</td>\n",
       "    </tr>\n",
       "    <tr>\n",
       "      <th>12509</th>\n",
       "      <td>다른건 몰라도 주민등록번호 유출한건 처벌 해야한다</td>\n",
       "      <td>0</td>\n",
       "    </tr>\n",
       "    <tr>\n",
       "      <th>12510</th>\n",
       "      <td>동영상 찍고 차량 번호 찍고 시간대 찍어서 회사측에 보내도록해 그리고 이런사람은 다...</td>\n",
       "      <td>0</td>\n",
       "    </tr>\n",
       "    <tr>\n",
       "      <th>12511</th>\n",
       "      <td>이메일 계정 비밀번호 마지막으로 바꾼 날짜가 언제야</td>\n",
       "      <td>0</td>\n",
       "    </tr>\n",
       "  </tbody>\n",
       "</table>\n",
       "<p>12512 rows × 2 columns</p>\n",
       "</div>"
      ],
      "text/plain": [
       "                                                    text  label\n",
       "0      이 영화 있는사람 공유 부탁합니다 제 폰번호 010 4427 2774 연락한통만요^-^;      0\n",
       "1      작가때문에 1점 주려다가 영화가 너무 좋아서 10점줌비행기를 끌고 추운곳에다 추락시...      0\n",
       "2                                    비밀번호가 뭐야? 서윤내사랑 ㅋ_ㅋ      0\n",
       "3                             용팔이 시르즈를 볼려면 어떻게 하는지.전화번호좀      0\n",
       "4      보다 말았는데 심장 졸라 쫄깃해진다;; 근데 여주 졸라 답답함. 세면대 물기 닦는 ...      0\n",
       "...                                                  ...    ...\n",
       "12507                         학원에서 어쩌다 보니 어느 여자 번호를 얻었어.      0\n",
       "12508                             방어율 99.9라서 등번호 99로 지었냐      0\n",
       "12509                        다른건 몰라도 주민등록번호 유출한건 처벌 해야한다      0\n",
       "12510  동영상 찍고 차량 번호 찍고 시간대 찍어서 회사측에 보내도록해 그리고 이런사람은 다...      0\n",
       "12511                       이메일 계정 비밀번호 마지막으로 바꾼 날짜가 언제야      0\n",
       "\n",
       "[12512 rows x 2 columns]"
      ]
     },
     "execution_count": 22,
     "metadata": {},
     "output_type": "execute_result"
    }
   ],
   "source": [
    "train_df[train_df['label']==0]"
   ]
  },
  {
   "cell_type": "code",
   "execution_count": 23,
   "metadata": {},
   "outputs": [
    {
     "data": {
      "text/plain": [
       "text     0\n",
       "label    0\n",
       "dtype: int64"
      ]
     },
     "execution_count": 23,
     "metadata": {},
     "output_type": "execute_result"
    }
   ],
   "source": [
    "train_df.isnull().sum()"
   ]
  },
  {
   "cell_type": "code",
   "execution_count": 24,
   "metadata": {},
   "outputs": [],
   "source": [
    "train_df.reset_index(drop=True, inplace=True)"
   ]
  },
  {
   "cell_type": "code",
   "execution_count": 25,
   "metadata": {},
   "outputs": [
    {
     "data": {
      "text/html": [
       "<div>\n",
       "<style scoped>\n",
       "    .dataframe tbody tr th:only-of-type {\n",
       "        vertical-align: middle;\n",
       "    }\n",
       "\n",
       "    .dataframe tbody tr th {\n",
       "        vertical-align: top;\n",
       "    }\n",
       "\n",
       "    .dataframe thead th {\n",
       "        text-align: right;\n",
       "    }\n",
       "</style>\n",
       "<table border=\"1\" class=\"dataframe\">\n",
       "  <thead>\n",
       "    <tr style=\"text-align: right;\">\n",
       "      <th></th>\n",
       "      <th>text</th>\n",
       "      <th>label</th>\n",
       "    </tr>\n",
       "  </thead>\n",
       "  <tbody>\n",
       "    <tr>\n",
       "      <th>50175</th>\n",
       "      <td>선배님들은 아이출산하고 언제쯤 생리 시작하셨나요?</td>\n",
       "      <td>2</td>\n",
       "    </tr>\n",
       "    <tr>\n",
       "      <th>50176</th>\n",
       "      <td>부정출혈이 있고 난 후 며칠 뒤에 생리 시작하는지 아시는분 있나요...?</td>\n",
       "      <td>2</td>\n",
       "    </tr>\n",
       "    <tr>\n",
       "      <th>50177</th>\n",
       "      <td>언제 시작하고 언제 끝났는지</td>\n",
       "      <td>2</td>\n",
       "    </tr>\n",
       "    <tr>\n",
       "      <th>50178</th>\n",
       "      <td>며칠전에 머리를 매직하고 나서부터슬슬 여자로서의 자각은 가지고 다니기 시작했는데얼마...</td>\n",
       "      <td>2</td>\n",
       "    </tr>\n",
       "    <tr>\n",
       "      <th>50179</th>\n",
       "      <td>가을언제 시작햇다고 끝나냐 ...</td>\n",
       "      <td>2</td>\n",
       "    </tr>\n",
       "  </tbody>\n",
       "</table>\n",
       "</div>"
      ],
      "text/plain": [
       "                                                    text  label\n",
       "50175                        선배님들은 아이출산하고 언제쯤 생리 시작하셨나요?      2\n",
       "50176           부정출혈이 있고 난 후 며칠 뒤에 생리 시작하는지 아시는분 있나요...?      2\n",
       "50177                                    언제 시작하고 언제 끝났는지      2\n",
       "50178  며칠전에 머리를 매직하고 나서부터슬슬 여자로서의 자각은 가지고 다니기 시작했는데얼마...      2\n",
       "50179                                 가을언제 시작햇다고 끝나냐 ...      2"
      ]
     },
     "execution_count": 25,
     "metadata": {},
     "output_type": "execute_result"
    }
   ],
   "source": [
    "train_df.tail()"
   ]
  },
  {
   "cell_type": "code",
   "execution_count": 26,
   "metadata": {},
   "outputs": [],
   "source": [
    "train_df.to_csv(\"train_data.csv\", index=False)"
   ]
  },
  {
   "cell_type": "code",
   "execution_count": 27,
   "metadata": {},
   "outputs": [],
   "source": [
    "df = pd.read_csv('./train_data.csv')"
   ]
  },
  {
   "cell_type": "code",
   "execution_count": 28,
   "metadata": {},
   "outputs": [
    {
     "data": {
      "text/html": [
       "<div>\n",
       "<style scoped>\n",
       "    .dataframe tbody tr th:only-of-type {\n",
       "        vertical-align: middle;\n",
       "    }\n",
       "\n",
       "    .dataframe tbody tr th {\n",
       "        vertical-align: top;\n",
       "    }\n",
       "\n",
       "    .dataframe thead th {\n",
       "        text-align: right;\n",
       "    }\n",
       "</style>\n",
       "<table border=\"1\" class=\"dataframe\">\n",
       "  <thead>\n",
       "    <tr style=\"text-align: right;\">\n",
       "      <th></th>\n",
       "      <th>text</th>\n",
       "      <th>label</th>\n",
       "    </tr>\n",
       "  </thead>\n",
       "  <tbody>\n",
       "    <tr>\n",
       "      <th>0</th>\n",
       "      <td>이 영화 있는사람 공유 부탁합니다 제 폰번호 010 4427 2774 연락한통만요^-^;</td>\n",
       "      <td>0</td>\n",
       "    </tr>\n",
       "    <tr>\n",
       "      <th>1</th>\n",
       "      <td>작가때문에 1점 주려다가 영화가 너무 좋아서 10점줌비행기를 끌고 추운곳에다 추락시...</td>\n",
       "      <td>0</td>\n",
       "    </tr>\n",
       "    <tr>\n",
       "      <th>2</th>\n",
       "      <td>비밀번호가 뭐야? 서윤내사랑 ㅋ_ㅋ</td>\n",
       "      <td>0</td>\n",
       "    </tr>\n",
       "    <tr>\n",
       "      <th>3</th>\n",
       "      <td>용팔이 시르즈를 볼려면 어떻게 하는지.전화번호좀</td>\n",
       "      <td>0</td>\n",
       "    </tr>\n",
       "    <tr>\n",
       "      <th>4</th>\n",
       "      <td>보다 말았는데 심장 졸라 쫄깃해진다;; 근데 여주 졸라 답답함. 세면대 물기 닦는 ...</td>\n",
       "      <td>0</td>\n",
       "    </tr>\n",
       "    <tr>\n",
       "      <th>...</th>\n",
       "      <td>...</td>\n",
       "      <td>...</td>\n",
       "    </tr>\n",
       "    <tr>\n",
       "      <th>50175</th>\n",
       "      <td>선배님들은 아이출산하고 언제쯤 생리 시작하셨나요?</td>\n",
       "      <td>2</td>\n",
       "    </tr>\n",
       "    <tr>\n",
       "      <th>50176</th>\n",
       "      <td>부정출혈이 있고 난 후 며칠 뒤에 생리 시작하는지 아시는분 있나요...?</td>\n",
       "      <td>2</td>\n",
       "    </tr>\n",
       "    <tr>\n",
       "      <th>50177</th>\n",
       "      <td>언제 시작하고 언제 끝났는지</td>\n",
       "      <td>2</td>\n",
       "    </tr>\n",
       "    <tr>\n",
       "      <th>50178</th>\n",
       "      <td>며칠전에 머리를 매직하고 나서부터슬슬 여자로서의 자각은 가지고 다니기 시작했는데얼마...</td>\n",
       "      <td>2</td>\n",
       "    </tr>\n",
       "    <tr>\n",
       "      <th>50179</th>\n",
       "      <td>가을언제 시작햇다고 끝나냐 ...</td>\n",
       "      <td>2</td>\n",
       "    </tr>\n",
       "  </tbody>\n",
       "</table>\n",
       "<p>50180 rows × 2 columns</p>\n",
       "</div>"
      ],
      "text/plain": [
       "                                                    text  label\n",
       "0      이 영화 있는사람 공유 부탁합니다 제 폰번호 010 4427 2774 연락한통만요^-^;      0\n",
       "1      작가때문에 1점 주려다가 영화가 너무 좋아서 10점줌비행기를 끌고 추운곳에다 추락시...      0\n",
       "2                                    비밀번호가 뭐야? 서윤내사랑 ㅋ_ㅋ      0\n",
       "3                             용팔이 시르즈를 볼려면 어떻게 하는지.전화번호좀      0\n",
       "4      보다 말았는데 심장 졸라 쫄깃해진다;; 근데 여주 졸라 답답함. 세면대 물기 닦는 ...      0\n",
       "...                                                  ...    ...\n",
       "50175                        선배님들은 아이출산하고 언제쯤 생리 시작하셨나요?      2\n",
       "50176           부정출혈이 있고 난 후 며칠 뒤에 생리 시작하는지 아시는분 있나요...?      2\n",
       "50177                                    언제 시작하고 언제 끝났는지      2\n",
       "50178  며칠전에 머리를 매직하고 나서부터슬슬 여자로서의 자각은 가지고 다니기 시작했는데얼마...      2\n",
       "50179                                 가을언제 시작햇다고 끝나냐 ...      2\n",
       "\n",
       "[50180 rows x 2 columns]"
      ]
     },
     "execution_count": 28,
     "metadata": {},
     "output_type": "execute_result"
    }
   ],
   "source": [
    "df"
   ]
  },
  {
   "cell_type": "code",
   "execution_count": null,
   "metadata": {},
   "outputs": [],
   "source": []
  }
 ],
 "metadata": {
  "kernelspec": {
   "display_name": "base",
   "language": "python",
   "name": "python3"
  },
  "language_info": {
   "codemirror_mode": {
    "name": "ipython",
    "version": 3
   },
   "file_extension": ".py",
   "mimetype": "text/x-python",
   "name": "python",
   "nbconvert_exporter": "python",
   "pygments_lexer": "ipython3",
   "version": "3.8.16"
  },
  "orig_nbformat": 4
 },
 "nbformat": 4,
 "nbformat_minor": 2
}
